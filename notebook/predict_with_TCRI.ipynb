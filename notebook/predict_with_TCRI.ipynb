{
 "cells": [
  {
   "cell_type": "code",
   "execution_count": 1,
   "id": "10dbe0dd",
   "metadata": {},
   "outputs": [
    {
     "name": "stdout",
     "output_type": "stream",
     "text": [
      "/wk171/ytkuo/TCRI_reanalysis\n"
     ]
    }
   ],
   "source": [
    "cd ../"
   ]
  },
  {
   "cell_type": "code",
   "execution_count": 2,
   "id": "8d47b932-e429-438d-bcbc-b4d1220fdb68",
   "metadata": {},
   "outputs": [
    {
     "name": "stdout",
     "output_type": "stream",
     "text": [
      "env: CUDA_VISIBLE_DEVICES=-1\n"
     ]
    }
   ],
   "source": [
    "%env CUDA_VISIBLE_DEVICES=-1"
   ]
  },
  {
   "cell_type": "code",
   "execution_count": 3,
   "id": "7cfcf047",
   "metadata": {},
   "outputs": [
    {
     "name": "stderr",
     "output_type": "stream",
     "text": [
      "2023-04-14 12:44:38.003320: I tensorflow/stream_executor/platform/default/dso_loader.cc:53] Successfully opened dynamic library libcudart.so.11.0\n"
     ]
    }
   ],
   "source": [
    "import tensorflow as tf\n",
    "tf.config.optimizer.set_jit(True)\n",
    "from modules.data_handler import ascii_array_to_string\n",
    "import pandas as pd\n",
    "import numpy as np\n",
    "from tqdm import tqdm"
   ]
  },
  {
   "cell_type": "code",
   "execution_count": 4,
   "id": "fbe48565-aa6d-45ac-afbe-d2057f330d43",
   "metadata": {},
   "outputs": [],
   "source": [
    "# fet experiment settings from yaml file\n",
    "from modules.experiment_helper import parse_experiment_settings\n",
    "\n",
    "experiment_path = 'experiments/cnn.yml'\n",
    "experiment_settings = parse_experiment_settings(experiment_path)"
   ]
  },
  {
   "cell_type": "code",
   "execution_count": 5,
   "id": "39ff473b-1bac-47f1-ac11-805443058667",
   "metadata": {},
   "outputs": [
    {
     "name": "stderr",
     "output_type": "stream",
     "text": [
      "2023-04-14 12:44:39.303235: I tensorflow/stream_executor/platform/default/dso_loader.cc:53] Successfully opened dynamic library libcuda.so.1\n",
      "2023-04-14 12:44:39.365376: E tensorflow/stream_executor/cuda/cuda_driver.cc:328] failed call to cuInit: CUDA_ERROR_NO_DEVICE: no CUDA-capable device is detected\n",
      "2023-04-14 12:44:39.365419: I tensorflow/stream_executor/cuda/cuda_diagnostics.cc:169] retrieving CUDA diagnostic information for host: ubuntu\n",
      "2023-04-14 12:44:39.365432: I tensorflow/stream_executor/cuda/cuda_diagnostics.cc:176] hostname: ubuntu\n",
      "2023-04-14 12:44:39.365575: I tensorflow/stream_executor/cuda/cuda_diagnostics.cc:200] libcuda reported version is: 460.39.0\n",
      "2023-04-14 12:44:39.365612: I tensorflow/stream_executor/cuda/cuda_diagnostics.cc:204] kernel reported version is: 460.39.0\n",
      "2023-04-14 12:44:39.365623: I tensorflow/stream_executor/cuda/cuda_diagnostics.cc:310] kernel version seems to match DSO: 460.39.0\n",
      "2023-04-14 12:44:39.366073: I tensorflow/core/platform/cpu_feature_guard.cc:142] This TensorFlow binary is optimized with oneAPI Deep Neural Network Library (oneDNN) to use the following CPU instructions in performance-critical operations:  AVX2 FMA\n",
      "To enable them in other operations, rebuild TensorFlow with the appropriate compiler flags.\n"
     ]
    },
    {
     "name": "stdout",
     "output_type": "stream",
     "text": [
      "WARNING:tensorflow:From /home/ytkuo/.local/share/virtualenvs/TCRI_reanalysis-pNI_ESs_/lib/python3.9/site-packages/tensorflow/python/ops/array_ops.py:5043: calling gather (from tensorflow.python.ops.array_ops) with validate_indices is deprecated and will be removed in a future version.\n",
      "Instructions for updating:\n",
      "The `validate_indices` argument has no effect. Indices are always validated on CPU and never validated on GPU.\n"
     ]
    }
   ],
   "source": [
    "# load dataset\n",
    "from modules.data_handler import get_tensorflow_datasets\n",
    "\n",
    "datasets = get_tensorflow_datasets(**experiment_settings['data'])"
   ]
  },
  {
   "cell_type": "code",
   "execution_count": 6,
   "id": "12c6d0ba",
   "metadata": {},
   "outputs": [
    {
     "name": "stdout",
     "output_type": "stream",
     "text": [
      "saved_models/cnn/best-MSE\n"
     ]
    }
   ],
   "source": [
    "# load trained model\n",
    "from modules.model_constructor import create_model_by_experiment_path\n",
    "\n",
    "model = create_model_by_experiment_path(experiment_path, version='best-MSE')"
   ]
  },
  {
   "cell_type": "code",
   "execution_count": 7,
   "id": "c807afa1-ff68-4d8b-ab23-c31a7f41633f",
   "metadata": {},
   "outputs": [
    {
     "name": "stderr",
     "output_type": "stream",
     "text": [
      "0it [00:00, ?it/s]2023-04-14 12:44:40.072222: I tensorflow/compiler/mlir/mlir_graph_optimization_pass.cc:176] None of the MLIR Optimization Passes are enabled (registered 2)\n",
      "2023-04-14 12:44:40.073032: I tensorflow/core/platform/profile_utils/cpu_utils.cc:114] CPU Frequency: 3199915000 Hz\n",
      "2023-04-14 12:44:40.085183: W tensorflow/compiler/jit/mark_for_compilation_pass.cc:1653] (One-time warning): Not using XLA:CPU for cluster because envvar TF_XLA_FLAGS=--tf_xla_cpu_global_jit was not set.  If you want XLA:CPU, either set that envvar, or use experimental_jit_scope to enable XLA:CPU.  To confirm that XLA is active, pass --vmodule=xla_compilation_cache=1 (as a proper command-line flag, not via TF_XLA_FLAGS) or set the envvar XLA_FLAGS=--xla_hlo_profile.\n",
      "194it [00:28,  6.88it/s]\n"
     ]
    }
   ],
   "source": [
    "df = pd.DataFrame(columns=['now','24h_Vmax', 'pred_24h_Vmax', 'starting_frame'])\n",
    "for image_sequences, labels, feature,frame_ID_ascii, dV in tqdm(datasets['test']):\n",
    "    starting_frame = list(map(ascii_array_to_string, frame_ID_ascii.numpy()))\n",
    "    pred = np.squeeze(model(image_sequences, feature).numpy())\n",
    "    V24 = labels.numpy()\n",
    "    now = V24 - dV.numpy()\n",
    "    batch_size = pred.shape[0]\n",
    "    for i in range(batch_size):\n",
    "        df.loc[df.shape[0]] = [now[i], V24[i], pred[i], starting_frame[i]]"
   ]
  },
  {
   "cell_type": "code",
   "execution_count": 8,
   "id": "74c4cb42-aa69-4281-9b16-1cebb6f56cab",
   "metadata": {},
   "outputs": [],
   "source": [
    "df = df.sort_values(['starting_frame']).reset_index(drop=True).round(2)"
   ]
  },
  {
   "cell_type": "code",
   "execution_count": 9,
   "id": "c6458c19-a3ff-40e5-9342-334ff055543c",
   "metadata": {
    "scrolled": false
   },
   "outputs": [
    {
     "data": {
      "text/html": [
       "<div>\n",
       "<style scoped>\n",
       "    .dataframe tbody tr th:only-of-type {\n",
       "        vertical-align: middle;\n",
       "    }\n",
       "\n",
       "    .dataframe tbody tr th {\n",
       "        vertical-align: top;\n",
       "    }\n",
       "\n",
       "    .dataframe thead th {\n",
       "        text-align: right;\n",
       "    }\n",
       "</style>\n",
       "<table border=\"1\" class=\"dataframe\">\n",
       "  <thead>\n",
       "    <tr style=\"text-align: right;\">\n",
       "      <th></th>\n",
       "      <th>now</th>\n",
       "      <th>24h_Vmax</th>\n",
       "      <th>pred_24h_Vmax</th>\n",
       "      <th>starting_frame</th>\n",
       "    </tr>\n",
       "  </thead>\n",
       "  <tbody>\n",
       "    <tr>\n",
       "      <th>0</th>\n",
       "      <td>13.12</td>\n",
       "      <td>28.24</td>\n",
       "      <td>35.05</td>\n",
       "      <td>201901E_2019062515</td>\n",
       "    </tr>\n",
       "    <tr>\n",
       "      <th>1</th>\n",
       "      <td>13.12</td>\n",
       "      <td>30.55</td>\n",
       "      <td>32.24</td>\n",
       "      <td>201901E_2019062518</td>\n",
       "    </tr>\n",
       "    <tr>\n",
       "      <th>2</th>\n",
       "      <td>16.12</td>\n",
       "      <td>33.51</td>\n",
       "      <td>44.12</td>\n",
       "      <td>201901E_2019062521</td>\n",
       "    </tr>\n",
       "    <tr>\n",
       "      <th>3</th>\n",
       "      <td>18.12</td>\n",
       "      <td>35.24</td>\n",
       "      <td>39.34</td>\n",
       "      <td>201901E_2019062600</td>\n",
       "    </tr>\n",
       "    <tr>\n",
       "      <th>4</th>\n",
       "      <td>18.30</td>\n",
       "      <td>37.86</td>\n",
       "      <td>54.15</td>\n",
       "      <td>201901E_2019062603</td>\n",
       "    </tr>\n",
       "    <tr>\n",
       "      <th>5</th>\n",
       "      <td>18.68</td>\n",
       "      <td>39.13</td>\n",
       "      <td>43.37</td>\n",
       "      <td>201901E_2019062606</td>\n",
       "    </tr>\n",
       "    <tr>\n",
       "      <th>6</th>\n",
       "      <td>22.16</td>\n",
       "      <td>38.69</td>\n",
       "      <td>50.02</td>\n",
       "      <td>201901E_2019062609</td>\n",
       "    </tr>\n",
       "    <tr>\n",
       "      <th>7</th>\n",
       "      <td>24.64</td>\n",
       "      <td>38.32</td>\n",
       "      <td>50.38</td>\n",
       "      <td>201901E_2019062612</td>\n",
       "    </tr>\n",
       "    <tr>\n",
       "      <th>8</th>\n",
       "      <td>28.24</td>\n",
       "      <td>40.79</td>\n",
       "      <td>63.66</td>\n",
       "      <td>201901E_2019062615</td>\n",
       "    </tr>\n",
       "    <tr>\n",
       "      <th>9</th>\n",
       "      <td>30.55</td>\n",
       "      <td>42.33</td>\n",
       "      <td>57.04</td>\n",
       "      <td>201901E_2019062618</td>\n",
       "    </tr>\n",
       "    <tr>\n",
       "      <th>10</th>\n",
       "      <td>33.51</td>\n",
       "      <td>47.01</td>\n",
       "      <td>68.64</td>\n",
       "      <td>201901E_2019062621</td>\n",
       "    </tr>\n",
       "    <tr>\n",
       "      <th>11</th>\n",
       "      <td>35.24</td>\n",
       "      <td>51.89</td>\n",
       "      <td>60.18</td>\n",
       "      <td>201901E_2019062700</td>\n",
       "    </tr>\n",
       "    <tr>\n",
       "      <th>12</th>\n",
       "      <td>37.86</td>\n",
       "      <td>49.76</td>\n",
       "      <td>41.09</td>\n",
       "      <td>201901E_2019062703</td>\n",
       "    </tr>\n",
       "    <tr>\n",
       "      <th>13</th>\n",
       "      <td>39.13</td>\n",
       "      <td>47.31</td>\n",
       "      <td>35.04</td>\n",
       "      <td>201901E_2019062706</td>\n",
       "    </tr>\n",
       "    <tr>\n",
       "      <th>14</th>\n",
       "      <td>38.69</td>\n",
       "      <td>45.71</td>\n",
       "      <td>36.12</td>\n",
       "      <td>201901E_2019062709</td>\n",
       "    </tr>\n",
       "    <tr>\n",
       "      <th>15</th>\n",
       "      <td>38.32</td>\n",
       "      <td>43.21</td>\n",
       "      <td>36.20</td>\n",
       "      <td>201901E_2019062712</td>\n",
       "    </tr>\n",
       "    <tr>\n",
       "      <th>16</th>\n",
       "      <td>40.79</td>\n",
       "      <td>41.90</td>\n",
       "      <td>48.07</td>\n",
       "      <td>201901E_2019062715</td>\n",
       "    </tr>\n",
       "    <tr>\n",
       "      <th>17</th>\n",
       "      <td>42.33</td>\n",
       "      <td>39.78</td>\n",
       "      <td>41.32</td>\n",
       "      <td>201901E_2019062718</td>\n",
       "    </tr>\n",
       "    <tr>\n",
       "      <th>18</th>\n",
       "      <td>47.01</td>\n",
       "      <td>35.66</td>\n",
       "      <td>43.03</td>\n",
       "      <td>201901E_2019062721</td>\n",
       "    </tr>\n",
       "    <tr>\n",
       "      <th>19</th>\n",
       "      <td>51.89</td>\n",
       "      <td>31.48</td>\n",
       "      <td>48.68</td>\n",
       "      <td>201901E_2019062800</td>\n",
       "    </tr>\n",
       "    <tr>\n",
       "      <th>20</th>\n",
       "      <td>49.76</td>\n",
       "      <td>27.49</td>\n",
       "      <td>39.71</td>\n",
       "      <td>201901E_2019062803</td>\n",
       "    </tr>\n",
       "    <tr>\n",
       "      <th>21</th>\n",
       "      <td>47.31</td>\n",
       "      <td>23.03</td>\n",
       "      <td>33.94</td>\n",
       "      <td>201901E_2019062806</td>\n",
       "    </tr>\n",
       "    <tr>\n",
       "      <th>22</th>\n",
       "      <td>45.71</td>\n",
       "      <td>21.37</td>\n",
       "      <td>30.69</td>\n",
       "      <td>201901E_2019062809</td>\n",
       "    </tr>\n",
       "    <tr>\n",
       "      <th>23</th>\n",
       "      <td>43.21</td>\n",
       "      <td>18.77</td>\n",
       "      <td>28.01</td>\n",
       "      <td>201901E_2019062812</td>\n",
       "    </tr>\n",
       "    <tr>\n",
       "      <th>24</th>\n",
       "      <td>41.90</td>\n",
       "      <td>8.18</td>\n",
       "      <td>21.37</td>\n",
       "      <td>201901E_2019062815</td>\n",
       "    </tr>\n",
       "    <tr>\n",
       "      <th>25</th>\n",
       "      <td>39.78</td>\n",
       "      <td>8.18</td>\n",
       "      <td>20.14</td>\n",
       "      <td>201901E_2019062818</td>\n",
       "    </tr>\n",
       "    <tr>\n",
       "      <th>26</th>\n",
       "      <td>35.66</td>\n",
       "      <td>6.18</td>\n",
       "      <td>15.63</td>\n",
       "      <td>201901E_2019062821</td>\n",
       "    </tr>\n",
       "    <tr>\n",
       "      <th>27</th>\n",
       "      <td>31.48</td>\n",
       "      <td>3.18</td>\n",
       "      <td>13.86</td>\n",
       "      <td>201901E_2019062900</td>\n",
       "    </tr>\n",
       "    <tr>\n",
       "      <th>28</th>\n",
       "      <td>19.03</td>\n",
       "      <td>32.82</td>\n",
       "      <td>49.10</td>\n",
       "      <td>201901I_2019042603</td>\n",
       "    </tr>\n",
       "    <tr>\n",
       "      <th>29</th>\n",
       "      <td>19.03</td>\n",
       "      <td>37.43</td>\n",
       "      <td>50.53</td>\n",
       "      <td>201901I_2019042606</td>\n",
       "    </tr>\n",
       "    <tr>\n",
       "      <th>30</th>\n",
       "      <td>19.03</td>\n",
       "      <td>37.74</td>\n",
       "      <td>33.71</td>\n",
       "      <td>201901I_2019042609</td>\n",
       "    </tr>\n",
       "    <tr>\n",
       "      <th>31</th>\n",
       "      <td>19.03</td>\n",
       "      <td>37.88</td>\n",
       "      <td>34.88</td>\n",
       "      <td>201901I_2019042612</td>\n",
       "    </tr>\n",
       "    <tr>\n",
       "      <th>32</th>\n",
       "      <td>21.98</td>\n",
       "      <td>37.73</td>\n",
       "      <td>44.47</td>\n",
       "      <td>201901I_2019042615</td>\n",
       "    </tr>\n",
       "    <tr>\n",
       "      <th>33</th>\n",
       "      <td>23.41</td>\n",
       "      <td>37.76</td>\n",
       "      <td>49.30</td>\n",
       "      <td>201901I_2019042618</td>\n",
       "    </tr>\n",
       "    <tr>\n",
       "      <th>34</th>\n",
       "      <td>26.24</td>\n",
       "      <td>38.49</td>\n",
       "      <td>52.03</td>\n",
       "      <td>201901I_2019042621</td>\n",
       "    </tr>\n",
       "    <tr>\n",
       "      <th>35</th>\n",
       "      <td>27.78</td>\n",
       "      <td>39.19</td>\n",
       "      <td>46.59</td>\n",
       "      <td>201901I_2019042700</td>\n",
       "    </tr>\n",
       "    <tr>\n",
       "      <th>36</th>\n",
       "      <td>32.82</td>\n",
       "      <td>40.22</td>\n",
       "      <td>57.02</td>\n",
       "      <td>201901I_2019042703</td>\n",
       "    </tr>\n",
       "    <tr>\n",
       "      <th>37</th>\n",
       "      <td>37.43</td>\n",
       "      <td>41.11</td>\n",
       "      <td>64.92</td>\n",
       "      <td>201901I_2019042706</td>\n",
       "    </tr>\n",
       "    <tr>\n",
       "      <th>38</th>\n",
       "      <td>37.74</td>\n",
       "      <td>40.98</td>\n",
       "      <td>52.88</td>\n",
       "      <td>201901I_2019042709</td>\n",
       "    </tr>\n",
       "    <tr>\n",
       "      <th>39</th>\n",
       "      <td>37.88</td>\n",
       "      <td>40.59</td>\n",
       "      <td>47.24</td>\n",
       "      <td>201901I_2019042712</td>\n",
       "    </tr>\n",
       "  </tbody>\n",
       "</table>\n",
       "</div>"
      ],
      "text/plain": [
       "      now  24h_Vmax  pred_24h_Vmax      starting_frame\n",
       "0   13.12     28.24          35.05  201901E_2019062515\n",
       "1   13.12     30.55          32.24  201901E_2019062518\n",
       "2   16.12     33.51          44.12  201901E_2019062521\n",
       "3   18.12     35.24          39.34  201901E_2019062600\n",
       "4   18.30     37.86          54.15  201901E_2019062603\n",
       "5   18.68     39.13          43.37  201901E_2019062606\n",
       "6   22.16     38.69          50.02  201901E_2019062609\n",
       "7   24.64     38.32          50.38  201901E_2019062612\n",
       "8   28.24     40.79          63.66  201901E_2019062615\n",
       "9   30.55     42.33          57.04  201901E_2019062618\n",
       "10  33.51     47.01          68.64  201901E_2019062621\n",
       "11  35.24     51.89          60.18  201901E_2019062700\n",
       "12  37.86     49.76          41.09  201901E_2019062703\n",
       "13  39.13     47.31          35.04  201901E_2019062706\n",
       "14  38.69     45.71          36.12  201901E_2019062709\n",
       "15  38.32     43.21          36.20  201901E_2019062712\n",
       "16  40.79     41.90          48.07  201901E_2019062715\n",
       "17  42.33     39.78          41.32  201901E_2019062718\n",
       "18  47.01     35.66          43.03  201901E_2019062721\n",
       "19  51.89     31.48          48.68  201901E_2019062800\n",
       "20  49.76     27.49          39.71  201901E_2019062803\n",
       "21  47.31     23.03          33.94  201901E_2019062806\n",
       "22  45.71     21.37          30.69  201901E_2019062809\n",
       "23  43.21     18.77          28.01  201901E_2019062812\n",
       "24  41.90      8.18          21.37  201901E_2019062815\n",
       "25  39.78      8.18          20.14  201901E_2019062818\n",
       "26  35.66      6.18          15.63  201901E_2019062821\n",
       "27  31.48      3.18          13.86  201901E_2019062900\n",
       "28  19.03     32.82          49.10  201901I_2019042603\n",
       "29  19.03     37.43          50.53  201901I_2019042606\n",
       "30  19.03     37.74          33.71  201901I_2019042609\n",
       "31  19.03     37.88          34.88  201901I_2019042612\n",
       "32  21.98     37.73          44.47  201901I_2019042615\n",
       "33  23.41     37.76          49.30  201901I_2019042618\n",
       "34  26.24     38.49          52.03  201901I_2019042621\n",
       "35  27.78     39.19          46.59  201901I_2019042700\n",
       "36  32.82     40.22          57.02  201901I_2019042703\n",
       "37  37.43     41.11          64.92  201901I_2019042706\n",
       "38  37.74     40.98          52.88  201901I_2019042709\n",
       "39  37.88     40.59          47.24  201901I_2019042712"
      ]
     },
     "execution_count": 9,
     "metadata": {},
     "output_type": "execute_result"
    }
   ],
   "source": [
    "df.head(40)"
   ]
  },
  {
   "cell_type": "code",
   "execution_count": 10,
   "id": "4e10907d",
   "metadata": {},
   "outputs": [
    {
     "data": {
      "text/plain": [
       "10.704191783649877"
      ]
     },
     "execution_count": 10,
     "metadata": {},
     "output_type": "execute_result"
    }
   ],
   "source": [
    "(abs(df.pred_24h_Vmax- df['24h_Vmax'])).mean()"
   ]
  },
  {
   "cell_type": "code",
   "execution_count": 12,
   "id": "53d75d0c",
   "metadata": {},
   "outputs": [
    {
     "data": {
      "text/plain": [
       "14.418202931461604"
      ]
     },
     "execution_count": 12,
     "metadata": {},
     "output_type": "execute_result"
    }
   ],
   "source": [
    "(abs(df.pred_24h_Vmax- df.now)).mean()"
   ]
  },
  {
   "cell_type": "code",
   "execution_count": 11,
   "id": "aba0a4e9",
   "metadata": {},
   "outputs": [],
   "source": [
    "df.to_csv('./saved_csv/large_dropout.csv', index = False)"
   ]
  },
  {
   "cell_type": "code",
   "execution_count": null,
   "id": "d3e5e897",
   "metadata": {},
   "outputs": [],
   "source": []
  },
  {
   "cell_type": "code",
   "execution_count": null,
   "id": "09d59b98",
   "metadata": {},
   "outputs": [],
   "source": []
  },
  {
   "cell_type": "code",
   "execution_count": 7,
   "id": "61b17df7",
   "metadata": {},
   "outputs": [],
   "source": [
    "import matplotlib.pyplot as plt"
   ]
  },
  {
   "cell_type": "code",
   "execution_count": 8,
   "id": "0c629740",
   "metadata": {},
   "outputs": [
    {
     "name": "stderr",
     "output_type": "stream",
     "text": [
      "2023-04-13 16:46:25.769778: I tensorflow/compiler/mlir/mlir_graph_optimization_pass.cc:176] None of the MLIR Optimization Passes are enabled (registered 2)\n",
      "2023-04-13 16:46:25.788672: I tensorflow/core/platform/profile_utils/cpu_utils.cc:114] CPU Frequency: 3199915000 Hz\n",
      "2023-04-13 16:46:25.799923: W tensorflow/compiler/jit/mark_for_compilation_pass.cc:1653] (One-time warning): Not using XLA:CPU for cluster because envvar TF_XLA_FLAGS=--tf_xla_cpu_global_jit was not set.  If you want XLA:CPU, either set that envvar, or use experimental_jit_scope to enable XLA:CPU.  To confirm that XLA is active, pass --vmodule=xla_compilation_cache=1 (as a proper command-line flag, not via TF_XLA_FLAGS) or set the envvar XLA_FLAGS=--xla_hlo_profile.\n"
     ]
    }
   ],
   "source": [
    "for image_sequences, labels, feature,frame_ID_ascii, dV in datasets['test']:\n",
    "    break"
   ]
  },
  {
   "cell_type": "code",
   "execution_count": 9,
   "id": "611cd325",
   "metadata": {},
   "outputs": [
    {
     "data": {
      "text/plain": [
       "<matplotlib.contour.QuadContourSet at 0x7fc8284c1f40>"
      ]
     },
     "execution_count": 9,
     "metadata": {},
     "output_type": "execute_result"
    },
    {
     "data": {
      "image/png": "[encoded data removed]",
      "text/plain": [
       "<Figure size 640x480 with 1 Axes>"
      ]
     },
     "metadata": {},
     "output_type": "display_data"
    }
   ],
   "source": [
    "tmp = image_sequences[:,0,:,:,0]\n",
    "tmp = np.nanmean(tmp, axis = 0)\n",
    "plt.contourf(tmp, levels=np.linspace(200,280))"
   ]
  },
  {
   "cell_type": "code",
   "execution_count": null,
   "id": "569946b7",
   "metadata": {},
   "outputs": [],
   "source": []
  }
 ],
 "metadata": {
  "kernelspec": {
   "display_name": "Python 3 (ipykernel)",
   "language": "python",
   "name": "python3"
  },
  "language_info": {
   "codemirror_mode": {
    "name": "ipython",
    "version": 3
   },
   "file_extension": ".py",
   "mimetype": "text/x-python",
   "name": "python",
   "nbconvert_exporter": "python",
   "pygments_lexer": "ipython3",
   "version": "3.9.1"
  }
 },
 "nbformat": 4,
 "nbformat_minor": 5
}
