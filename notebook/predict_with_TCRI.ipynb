{
 "cells": [
  {
   "cell_type": "code",
   "execution_count": 1,
   "id": "10dbe0dd",
   "metadata": {},
   "outputs": [
    {
     "name": "stdout",
     "output_type": "stream",
     "text": [
      "/wk171/ytkuo/TCRI_reanalysis\n"
     ]
    }
   ],
   "source": [
    "cd ../"
   ]
  },
  {
   "cell_type": "code",
   "execution_count": 2,
   "id": "8d47b932-e429-438d-bcbc-b4d1220fdb68",
   "metadata": {},
   "outputs": [
    {
     "name": "stdout",
     "output_type": "stream",
     "text": [
      "env: CUDA_VISIBLE_DEVICES=-1\n"
     ]
    }
   ],
   "source": [
    "%env CUDA_VISIBLE_DEVICES=-1"
   ]
  },
  {
   "cell_type": "code",
   "execution_count": 3,
   "id": "7cfcf047",
   "metadata": {},
   "outputs": [
    {
     "name": "stderr",
     "output_type": "stream",
     "text": [
      "2023-06-25 17:10:03.347220: I tensorflow/stream_executor/platform/default/dso_loader.cc:53] Successfully opened dynamic library libcudart.so.11.0\n"
     ]
    }
   ],
   "source": [
    "import tensorflow as tf\n",
    "tf.config.optimizer.set_jit(True)\n",
    "from modules.data_handler import ascii_array_to_string\n",
    "import pandas as pd\n",
    "import numpy as np"
   ]
  },
  {
   "cell_type": "code",
   "execution_count": 4,
   "id": "fbe48565-aa6d-45ac-afbe-d2057f330d43",
   "metadata": {},
   "outputs": [],
   "source": [
    "# fet experiment settings from yaml file\n",
    "from modules.experiment_helper import parse_experiment_settings\n",
    "\n",
    "experiment_path = 'experiments/cnn-two-stage.yml'\n",
    "experiment_settings = parse_experiment_settings(experiment_path)"
   ]
  },
  {
   "cell_type": "code",
   "execution_count": 5,
   "id": "39ff473b-1bac-47f1-ac11-805443058667",
   "metadata": {},
   "outputs": [
    {
     "name": "stderr",
     "output_type": "stream",
     "text": [
      "2023-06-25 17:10:04.716441: I tensorflow/stream_executor/platform/default/dso_loader.cc:53] Successfully opened dynamic library libcuda.so.1\n",
      "2023-06-25 17:10:04.770588: E tensorflow/stream_executor/cuda/cuda_driver.cc:328] failed call to cuInit: CUDA_ERROR_NO_DEVICE: no CUDA-capable device is detected\n",
      "2023-06-25 17:10:04.770616: I tensorflow/stream_executor/cuda/cuda_diagnostics.cc:169] retrieving CUDA diagnostic information for host: ubuntu\n",
      "2023-06-25 17:10:04.770623: I tensorflow/stream_executor/cuda/cuda_diagnostics.cc:176] hostname: ubuntu\n",
      "2023-06-25 17:10:04.770721: I tensorflow/stream_executor/cuda/cuda_diagnostics.cc:200] libcuda reported version is: 460.39.0\n",
      "2023-06-25 17:10:04.770744: I tensorflow/stream_executor/cuda/cuda_diagnostics.cc:204] kernel reported version is: 460.39.0\n",
      "2023-06-25 17:10:04.770750: I tensorflow/stream_executor/cuda/cuda_diagnostics.cc:310] kernel version seems to match DSO: 460.39.0\n",
      "2023-06-25 17:10:04.771310: I tensorflow/core/platform/cpu_feature_guard.cc:142] This TensorFlow binary is optimized with oneAPI Deep Neural Network Library (oneDNN) to use the following CPU instructions in performance-critical operations:  AVX2 FMA\n",
      "To enable them in other operations, rebuild TensorFlow with the appropriate compiler flags.\n"
     ]
    },
    {
     "name": "stdout",
     "output_type": "stream",
     "text": [
      "WARNING:tensorflow:From /home/ytkuo/.local/share/virtualenvs/TCRI_reanalysis-pNI_ESs_/lib/python3.9/site-packages/tensorflow/python/ops/array_ops.py:5043: calling gather (from tensorflow.python.ops.array_ops) with validate_indices is deprecated and will be removed in a future version.\n",
      "Instructions for updating:\n",
      "The `validate_indices` argument has no effect. Indices are always validated on CPU and never validated on GPU.\n"
     ]
    }
   ],
   "source": [
    "# load dataset\n",
    "from modules.data_handler import get_tensorflow_datasets\n",
    "\n",
    "datasets = get_tensorflow_datasets(**experiment_settings['data'])"
   ]
  },
  {
   "cell_type": "code",
   "execution_count": 6,
   "id": "12c6d0ba",
   "metadata": {},
   "outputs": [
    {
     "name": "stdout",
     "output_type": "stream",
     "text": [
      "saved_models/cnn-two-stage/best-MSE\n"
     ]
    }
   ],
   "source": [
    "# load trained model\n",
    "from modules.model_constructor import create_model_by_experiment_path\n",
    "\n",
    "model = create_model_by_experiment_path(experiment_path, version='best-MSE')"
   ]
  },
  {
   "cell_type": "code",
   "execution_count": 7,
   "id": "ebac990d",
   "metadata": {},
   "outputs": [
    {
     "name": "stderr",
     "output_type": "stream",
     "text": [
      "2023-06-25 17:10:05.622235: I tensorflow/compiler/mlir/mlir_graph_optimization_pass.cc:176] None of the MLIR Optimization Passes are enabled (registered 2)\n",
      "2023-06-25 17:10:05.623058: I tensorflow/core/platform/profile_utils/cpu_utils.cc:114] CPU Frequency: 3199960000 Hz\n",
      "2023-06-25 17:10:05.634892: W tensorflow/compiler/jit/mark_for_compilation_pass.cc:1653] (One-time warning): Not using XLA:CPU for cluster because envvar TF_XLA_FLAGS=--tf_xla_cpu_global_jit was not set.  If you want XLA:CPU, either set that envvar, or use experimental_jit_scope to enable XLA:CPU.  To confirm that XLA is active, pass --vmodule=xla_compilation_cache=1 (as a proper command-line flag, not via TF_XLA_FLAGS) or set the envvar XLA_FLAGS=--xla_hlo_profile.\n"
     ]
    }
   ],
   "source": [
    "df = pd.DataFrame(columns=['now', '24h_Vmax', 'pred_24h_Vmax', 'starting_frame'])\n",
    "\n",
    "data_list = [(list(map(ascii_array_to_string, frame_ID_ascii.numpy())), labels.numpy(), \n",
    "              model(image_sequences, feature, dv3h).numpy()[:,0], labels.numpy() - dV.numpy()) \n",
    "             for image_sequences, labels,_,_, feature,_,_, frame_ID_ascii, dv3h, dV in datasets['test']]\n",
    "\n",
    "data_dict = {'now': [], '24h_Vmax': [], 'pred_24h_Vmax': [], 'starting_frame': []}\n",
    "\n",
    "for starting_frame, V24, pred, now in data_list:\n",
    "    data_dict['now'].extend(now)\n",
    "    data_dict['24h_Vmax'].extend(V24)\n",
    "    data_dict['pred_24h_Vmax'].extend(pred)\n",
    "    data_dict['starting_frame'].extend(starting_frame)\n",
    "\n",
    "df = pd.DataFrame(data_dict)"
   ]
  },
  {
   "cell_type": "code",
   "execution_count": 8,
   "id": "74c4cb42-aa69-4281-9b16-1cebb6f56cab",
   "metadata": {},
   "outputs": [],
   "source": [
    "df['now'] = df['now']*28.126 + 39.669\n",
    "df['24h_Vmax'] = df['24h_Vmax']*28.126 + 39.669\n",
    "df['pred_24h_Vmax'] = df['pred_24h_Vmax']*28.126 + 39.669\n",
    "df = df.sort_values(['starting_frame']).reset_index(drop=True).round(2)"
   ]
  },
  {
   "cell_type": "code",
   "execution_count": 9,
   "id": "c6458c19-a3ff-40e5-9342-334ff055543c",
   "metadata": {
    "scrolled": false
   },
   "outputs": [
    {
     "data": {
      "text/html": [
       "<div>\n",
       "<style scoped>\n",
       "    .dataframe tbody tr th:only-of-type {\n",
       "        vertical-align: middle;\n",
       "    }\n",
       "\n",
       "    .dataframe tbody tr th {\n",
       "        vertical-align: top;\n",
       "    }\n",
       "\n",
       "    .dataframe thead th {\n",
       "        text-align: right;\n",
       "    }\n",
       "</style>\n",
       "<table border=\"1\" class=\"dataframe\">\n",
       "  <thead>\n",
       "    <tr style=\"text-align: right;\">\n",
       "      <th></th>\n",
       "      <th>now</th>\n",
       "      <th>24h_Vmax</th>\n",
       "      <th>pred_24h_Vmax</th>\n",
       "      <th>starting_frame</th>\n",
       "    </tr>\n",
       "  </thead>\n",
       "  <tbody>\n",
       "    <tr>\n",
       "      <th>0</th>\n",
       "      <td>16.12</td>\n",
       "      <td>33.52</td>\n",
       "      <td>33.57</td>\n",
       "      <td>201901E_2019062521</td>\n",
       "    </tr>\n",
       "    <tr>\n",
       "      <th>1</th>\n",
       "      <td>18.12</td>\n",
       "      <td>35.25</td>\n",
       "      <td>31.90</td>\n",
       "      <td>201901E_2019062600</td>\n",
       "    </tr>\n",
       "    <tr>\n",
       "      <th>2</th>\n",
       "      <td>18.30</td>\n",
       "      <td>37.86</td>\n",
       "      <td>31.12</td>\n",
       "      <td>201901E_2019062603</td>\n",
       "    </tr>\n",
       "    <tr>\n",
       "      <th>3</th>\n",
       "      <td>18.68</td>\n",
       "      <td>39.13</td>\n",
       "      <td>29.58</td>\n",
       "      <td>201901E_2019062606</td>\n",
       "    </tr>\n",
       "    <tr>\n",
       "      <th>4</th>\n",
       "      <td>22.16</td>\n",
       "      <td>38.69</td>\n",
       "      <td>32.91</td>\n",
       "      <td>201901E_2019062609</td>\n",
       "    </tr>\n",
       "  </tbody>\n",
       "</table>\n",
       "</div>"
      ],
      "text/plain": [
       "     now  24h_Vmax  pred_24h_Vmax      starting_frame\n",
       "0  16.12     33.52          33.57  201901E_2019062521\n",
       "1  18.12     35.25          31.90  201901E_2019062600\n",
       "2  18.30     37.86          31.12  201901E_2019062603\n",
       "3  18.68     39.13          29.58  201901E_2019062606\n",
       "4  22.16     38.69          32.91  201901E_2019062609"
      ]
     },
     "execution_count": 9,
     "metadata": {},
     "output_type": "execute_result"
    }
   ],
   "source": [
    "df.head(5)"
   ]
  },
  {
   "cell_type": "code",
   "execution_count": 10,
   "id": "aba0a4e9",
   "metadata": {},
   "outputs": [],
   "source": [
    "df.to_csv('./saved_csv/cnn_only_two_stage_3_encoded_label_max.csv', index = False)"
   ]
  },
  {
   "cell_type": "code",
   "execution_count": null,
   "id": "e37f087c",
   "metadata": {},
   "outputs": [],
   "source": []
  }
 ],
 "metadata": {
  "kernelspec": {
   "display_name": "Python 3 (ipykernel)",
   "language": "python",
   "name": "python3"
  },
  "language_info": {
   "codemirror_mode": {
    "name": "ipython",
    "version": 3
   },
   "file_extension": ".py",
   "mimetype": "text/x-python",
   "name": "python",
   "nbconvert_exporter": "python",
   "pygments_lexer": "ipython3",
   "version": "3.9.1"
  }
 },
 "nbformat": 4,
 "nbformat_minor": 5
}
